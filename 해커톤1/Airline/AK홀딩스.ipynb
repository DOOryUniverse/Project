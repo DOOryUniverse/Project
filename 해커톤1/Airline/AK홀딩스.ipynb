{
 "cells": [
  {
   "cell_type": "code",
   "execution_count": 1,
   "metadata": {},
   "outputs": [
    {
     "data": {
      "text/html": [
       "<div>\n",
       "<style scoped>\n",
       "    .dataframe tbody tr th:only-of-type {\n",
       "        vertical-align: middle;\n",
       "    }\n",
       "\n",
       "    .dataframe tbody tr th {\n",
       "        vertical-align: top;\n",
       "    }\n",
       "\n",
       "    .dataframe thead th {\n",
       "        text-align: right;\n",
       "    }\n",
       "</style>\n",
       "<table border=\"1\" class=\"dataframe\">\n",
       "  <thead>\n",
       "    <tr style=\"text-align: right;\">\n",
       "      <th></th>\n",
       "      <th>date</th>\n",
       "      <th>open</th>\n",
       "      <th>high</th>\n",
       "      <th>low</th>\n",
       "      <th>close</th>\n",
       "      <th>volume</th>\n",
       "    </tr>\n",
       "  </thead>\n",
       "  <tbody>\n",
       "    <tr>\n",
       "      <th>0</th>\n",
       "      <td>2021-04-01 09:00:00</td>\n",
       "      <td>26800</td>\n",
       "      <td>26950</td>\n",
       "      <td>26800</td>\n",
       "      <td>26900</td>\n",
       "      <td>483</td>\n",
       "    </tr>\n",
       "    <tr>\n",
       "      <th>1</th>\n",
       "      <td>2021-04-01 09:01:00</td>\n",
       "      <td>26950</td>\n",
       "      <td>27000</td>\n",
       "      <td>26900</td>\n",
       "      <td>27000</td>\n",
       "      <td>534</td>\n",
       "    </tr>\n",
       "    <tr>\n",
       "      <th>2</th>\n",
       "      <td>2021-04-01 09:02:00</td>\n",
       "      <td>27050</td>\n",
       "      <td>27200</td>\n",
       "      <td>27050</td>\n",
       "      <td>27200</td>\n",
       "      <td>162</td>\n",
       "    </tr>\n",
       "    <tr>\n",
       "      <th>3</th>\n",
       "      <td>2021-04-01 09:03:00</td>\n",
       "      <td>27100</td>\n",
       "      <td>27150</td>\n",
       "      <td>27050</td>\n",
       "      <td>27150</td>\n",
       "      <td>232</td>\n",
       "    </tr>\n",
       "    <tr>\n",
       "      <th>4</th>\n",
       "      <td>2021-04-01 09:04:00</td>\n",
       "      <td>27100</td>\n",
       "      <td>27100</td>\n",
       "      <td>27000</td>\n",
       "      <td>27050</td>\n",
       "      <td>65</td>\n",
       "    </tr>\n",
       "  </tbody>\n",
       "</table>\n",
       "</div>"
      ],
      "text/plain": [
       "                 date   open   high    low  close  volume\n",
       "0 2021-04-01 09:00:00  26800  26950  26800  26900     483\n",
       "1 2021-04-01 09:01:00  26950  27000  26900  27000     534\n",
       "2 2021-04-01 09:02:00  27050  27200  27050  27200     162\n",
       "3 2021-04-01 09:03:00  27100  27150  27050  27150     232\n",
       "4 2021-04-01 09:04:00  27100  27100  27000  27050      65"
      ]
     },
     "execution_count": 1,
     "metadata": {},
     "output_type": "execute_result"
    }
   ],
   "source": [
    "import pymysql\n",
    "import pandas as pd\n",
    "import mods_sql\n",
    "\n",
    "_db = mods_sql.Database()\n",
    "sql = \"\"\"SELECT * FROM \n",
    "AK홀딩스_006840\"\"\"\n",
    "\n",
    "result = _db.executeAll(sql)\n",
    "akh=pd.DataFrame(result)\n",
    "akh.head()"
   ]
  },
  {
   "cell_type": "code",
   "execution_count": null,
   "metadata": {},
   "outputs": [],
   "source": []
  }
 ],
 "metadata": {
  "interpreter": {
   "hash": "b3ba2566441a7c06988d0923437866b63cedc61552a5af99d1f4fb67d367b25f"
  },
  "kernelspec": {
   "display_name": "Python 3.9.7 ('base')",
   "language": "python",
   "name": "python3"
  },
  "language_info": {
   "codemirror_mode": {
    "name": "ipython",
    "version": 3
   },
   "file_extension": ".py",
   "mimetype": "text/x-python",
   "name": "python",
   "nbconvert_exporter": "python",
   "pygments_lexer": "ipython3",
   "version": "3.9.7"
  },
  "orig_nbformat": 4
 },
 "nbformat": 4,
 "nbformat_minor": 2
}
