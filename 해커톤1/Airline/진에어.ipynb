{
 "cells": [
  {
   "cell_type": "code",
   "execution_count": 1,
   "metadata": {},
   "outputs": [
    {
     "data": {
      "text/html": [
       "<div>\n",
       "<style scoped>\n",
       "    .dataframe tbody tr th:only-of-type {\n",
       "        vertical-align: middle;\n",
       "    }\n",
       "\n",
       "    .dataframe tbody tr th {\n",
       "        vertical-align: top;\n",
       "    }\n",
       "\n",
       "    .dataframe thead th {\n",
       "        text-align: right;\n",
       "    }\n",
       "</style>\n",
       "<table border=\"1\" class=\"dataframe\">\n",
       "  <thead>\n",
       "    <tr style=\"text-align: right;\">\n",
       "      <th></th>\n",
       "      <th>date</th>\n",
       "      <th>open</th>\n",
       "      <th>high</th>\n",
       "      <th>low</th>\n",
       "      <th>close</th>\n",
       "      <th>volume</th>\n",
       "    </tr>\n",
       "  </thead>\n",
       "  <tbody>\n",
       "    <tr>\n",
       "      <th>0</th>\n",
       "      <td>2021-04-01 09:00:00</td>\n",
       "      <td>19749</td>\n",
       "      <td>19749</td>\n",
       "      <td>19555</td>\n",
       "      <td>19700</td>\n",
       "      <td>1221</td>\n",
       "    </tr>\n",
       "    <tr>\n",
       "      <th>1</th>\n",
       "      <td>2021-04-01 09:01:00</td>\n",
       "      <td>19700</td>\n",
       "      <td>19700</td>\n",
       "      <td>19507</td>\n",
       "      <td>19555</td>\n",
       "      <td>2954</td>\n",
       "    </tr>\n",
       "    <tr>\n",
       "      <th>2</th>\n",
       "      <td>2021-04-01 09:02:00</td>\n",
       "      <td>19555</td>\n",
       "      <td>19797</td>\n",
       "      <td>19507</td>\n",
       "      <td>19652</td>\n",
       "      <td>1877</td>\n",
       "    </tr>\n",
       "    <tr>\n",
       "      <th>3</th>\n",
       "      <td>2021-04-01 09:03:00</td>\n",
       "      <td>19652</td>\n",
       "      <td>19652</td>\n",
       "      <td>19459</td>\n",
       "      <td>19604</td>\n",
       "      <td>4241</td>\n",
       "    </tr>\n",
       "    <tr>\n",
       "      <th>4</th>\n",
       "      <td>2021-04-01 09:04:00</td>\n",
       "      <td>19604</td>\n",
       "      <td>19604</td>\n",
       "      <td>19507</td>\n",
       "      <td>19507</td>\n",
       "      <td>65</td>\n",
       "    </tr>\n",
       "  </tbody>\n",
       "</table>\n",
       "</div>"
      ],
      "text/plain": [
       "                 date   open   high    low  close  volume\n",
       "0 2021-04-01 09:00:00  19749  19749  19555  19700    1221\n",
       "1 2021-04-01 09:01:00  19700  19700  19507  19555    2954\n",
       "2 2021-04-01 09:02:00  19555  19797  19507  19652    1877\n",
       "3 2021-04-01 09:03:00  19652  19652  19459  19604    4241\n",
       "4 2021-04-01 09:04:00  19604  19604  19507  19507      65"
      ]
     },
     "execution_count": 1,
     "metadata": {},
     "output_type": "execute_result"
    }
   ],
   "source": [
    "import pymysql\n",
    "import pandas as pd\n",
    "import mods_sql\n",
    "\n",
    "_db = mods_sql.Database()\n",
    "sql = \"\"\"SELECT * FROM \n",
    "진에어_272450\"\"\"\n",
    "\n",
    "result= _db.executeAll(sql)\n",
    "jin=pd.DataFrame(result)\n",
    "jin.head()"
   ]
  },
  {
   "cell_type": "code",
   "execution_count": null,
   "metadata": {},
   "outputs": [],
   "source": []
  }
 ],
 "metadata": {
  "interpreter": {
   "hash": "b3ba2566441a7c06988d0923437866b63cedc61552a5af99d1f4fb67d367b25f"
  },
  "kernelspec": {
   "display_name": "Python 3.9.7 ('base')",
   "language": "python",
   "name": "python3"
  },
  "language_info": {
   "codemirror_mode": {
    "name": "ipython",
    "version": 3
   },
   "file_extension": ".py",
   "mimetype": "text/x-python",
   "name": "python",
   "nbconvert_exporter": "python",
   "pygments_lexer": "ipython3",
   "version": "3.9.7"
  },
  "orig_nbformat": 4
 },
 "nbformat": 4,
 "nbformat_minor": 2
}
