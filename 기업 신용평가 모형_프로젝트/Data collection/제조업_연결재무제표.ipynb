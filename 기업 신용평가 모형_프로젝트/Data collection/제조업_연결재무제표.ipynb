{
 "cells": [
  {
   "cell_type": "code",
   "execution_count": 30,
   "metadata": {},
   "outputs": [],
   "source": [
    "import pandas as pd\n",
    "data = pd.read_csv(\"../datasets/connection/제조업 연결 (폐지포함).csv\", encoding= \"CP949\")\n",
    "data1 = pd.read_csv(\"../datasets/connection/제조업 통합본 금융뺀거.csv\", encoding=\"CP949\")\n",
    "data2 = pd.read_csv(\"../datasets/connection/기업패턴2.csv\", encoding=\"CP949\")\n",
    "data3 = pd.read_csv(\"../datasets/connection/155 폐지 회사명.csv\", encoding=\"utf-8\")\n",
    "\n",
    "data4 = pd.read_csv(\"../datasets/155.csv\", encoding=\"CP949\", )"
   ]
  },
  {
   "cell_type": "code",
   "execution_count": 33,
   "metadata": {},
   "outputs": [],
   "source": [
    "data5 = pd.merge(data1,data4, how=\"right\", on = \"거래소코드\")"
   ]
  },
  {
   "cell_type": "code",
   "execution_count": 37,
   "metadata": {},
   "outputs": [
    {
     "data": {
      "text/plain": [
       "(348, 42)"
      ]
     },
     "execution_count": 37,
     "metadata": {},
     "output_type": "execute_result"
    }
   ],
   "source": [
    "data5.shape"
   ]
  },
  {
   "cell_type": "code",
   "execution_count": 30,
   "metadata": {},
   "outputs": [
    {
     "name": "stdout",
     "output_type": "stream",
     "text": [
      "Count Unique values in each column including NaN\n",
      "회사명                      1608\n",
      "거래소코드                    1629\n",
      "회계년도                       32\n",
      "[제조]영업활동으로 인한 현금흐름(*)    6656\n",
      "[제조]투자활동으로 인한 현금흐름(*)    6656\n",
      "[제조]재무활동으로 인한 현금흐름(*)    6511\n",
      "패턴                          9\n",
      "dtype: int64\n"
     ]
    }
   ],
   "source": [
    "uniqueValues = data2.nunique(dropna=False)\n",
    "print(\"Count Unique values in each column including NaN\")\n",
    "print(uniqueValues)"
   ]
  },
  {
   "cell_type": "code",
   "execution_count": 23,
   "metadata": {},
   "outputs": [],
   "source": [
    "# 안정성\n",
    "data1['유동비율'] = data1['유동자산'] / data1['유동부채'] * 100\n",
    "\n",
    "data1['당좌비율'] = data1['당좌자산'] / data1['유동부채'] * 100\n",
    "\n",
    "data1['부채비율'] = data1['부채'] / data1['자본'] * 100\n",
    "\n",
    "data1['차입금의존도'] = data1['장기차입금']+data1['단기차입금']+data1['사채'] / data1['자산'] * 100\n",
    "\n",
    "data1['이자보상배율'] = data1['영업이익']/ data1['이자비용']\n",
    "\n",
    "\n",
    "\n",
    "\n",
    "# 수익성\n",
    "data1['매출총이익률'] = data1['매출총이익'] / data1['매출액'] * 100\n",
    "\n",
    "data1['영업이익률'] = data1['영업이익'] / data1['매출액'] * 100\n",
    "\n",
    "data1['당기순이익률'] = data1['당기순이익'] / data1['매출액'] * 100\n",
    "\n",
    "data1['ROA'] = data1['당기순이익'] / data1['자산'] * 100\n",
    "\n",
    "average_equity = data1['자본'].rolling(2).mean() # 평균 자기 자본\n",
    "data1['ROE'] = data1['당기순이익'] / average_equity * 100\n",
    "\n",
    "\n",
    "\n",
    "# 활동성\n",
    "# inventory_equity = data1['재고자산'].rolling(2).mean() # 평균 자기 자본\n",
    "# data1['재고자산회전율'] = data1['매출원가'] / inventory_equity\n",
    "\n",
    "trade_receivable_equity = data1['매출채권'].rolling(2).mean() # 평균 자기 자본\n",
    "data1['매출채권회전율'] = data1['매출액'] / trade_receivable_equity\n",
    "\n",
    "total_assets_equity = data1['자산'].rolling(2).mean() # 평균 자기 자본\n",
    "data1['총자산회전율'] = data1['매출액'] / total_assets_equity\n",
    "\n",
    "# trade_payables_equity = data1['매입채무'].rolling(2).mean() # 평균 자기 자본\n",
    "# data1['매입채무회전율'] = data1['매출원가'] / trade_payables_equity\n",
    "\n",
    "# data1[\"현금순환주기\"] = ((360/data1[\"재고자산회전율\"])+(360/data1[\"매출채권회전율\"]))-(360/data1[\"총자산회전율\"])\n",
    "\n",
    "\n",
    "\n",
    "\n",
    "# 성장성\n",
    "data1.sort_values(by = ['기업', '연도'], inplace = True) # 기업과 연도를 기준으로 정렬\n",
    "data1['매출액증가율'] = data1['매출액'].diff() / data1['매출액'] * 100 \n",
    "\n",
    "data1.sort_values(by = ['기업', '연도'], inplace = True) # 기업과 연도를 기준으로 정렬\n",
    "data1['영업이익증가율'] = data1['영업이익'].diff() / data1['영업이익'] * 100\n",
    "\n",
    "data1.sort_values(by = ['기업', '연도'], inplace = True) \n",
    "data1['유형자산증가율'] = data1['유형자산'].diff() / data1['유형자산'] * 100\n",
    "\n",
    "data1.sort_values(by = ['기업', '연도'], inplace = True) # 기업과 연도를 기준으로 정렬\n",
    "data1['총자산증가율'] = data1['자산'].diff() / data1['자산'] * 100"
   ]
  },
  {
   "cell_type": "code",
   "execution_count": 19,
   "metadata": {},
   "outputs": [],
   "source": [
    "data2.to_csv(\"./기업패턴2.csv\", index = False,encoding='CP949')"
   ]
  },
  {
   "cell_type": "code",
   "execution_count": 5,
   "metadata": {},
   "outputs": [],
   "source": [
    "data1.to_csv(\"./제조업 통합본 금융뺀거_널값제거.csv\", index = False,encoding='CP949')"
   ]
  },
  {
   "cell_type": "code",
   "execution_count": 35,
   "metadata": {},
   "outputs": [],
   "source": [
    "data3.to_csv(\"./155개 폐지 회사.csv\", index = False,encoding='CP949')"
   ]
  },
  {
   "cell_type": "code",
   "execution_count": null,
   "metadata": {},
   "outputs": [],
   "source": [
    "d"
   ]
  }
 ],
 "metadata": {
  "interpreter": {
   "hash": "b3ba2566441a7c06988d0923437866b63cedc61552a5af99d1f4fb67d367b25f"
  },
  "kernelspec": {
   "display_name": "Python 3.9.7 ('base')",
   "language": "python",
   "name": "python3"
  },
  "language_info": {
   "codemirror_mode": {
    "name": "ipython",
    "version": 3
   },
   "file_extension": ".py",
   "mimetype": "text/x-python",
   "name": "python",
   "nbconvert_exporter": "python",
   "pygments_lexer": "ipython3",
   "version": "3.9.7"
  },
  "orig_nbformat": 4
 },
 "nbformat": 4,
 "nbformat_minor": 2
}
