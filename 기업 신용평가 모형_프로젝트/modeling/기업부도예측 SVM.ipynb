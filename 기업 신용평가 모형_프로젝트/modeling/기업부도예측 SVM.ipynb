{
 "cells": [
  {
   "cell_type": "markdown",
   "metadata": {},
   "source": [
    "#### 전반 학습\n",
    "https://asthtls.tistory.com/1178\n"
   ]
  },
  {
   "cell_type": "markdown",
   "metadata": {},
   "source": [
    "#### SVM이란? \n",
    "- https://runebook.dev/ko/docs/scikit_learn/modules/svm\n",
    "- 데이터 세트에서 이진 및 다중 클래스 분류를 수행 할 수있는 클래스 \n",
    "- 쉽게 말해서 단순선형회귀보다 휘어진 곡선 분류가 가능해진다.       \n",
    "\n",
    "\n",
    "#### 1.SVM의 종류 \n",
    "- 선형 SVM \n",
    "    - 필요 매개변수 : cost \n",
    "- RBF 커널 SVM\n",
    "    - 선으로는 분류할 수 없는 경우 데이터를 고차원 특징 공간으로 사상해서 분류한다. \n",
    "    - 필요 매개변수 : cost, gamma\n",
    "\n",
    "  \n",
    "\n",
    "#### 2.Cost (C)의 의미:\n",
    "- 얼마나 많은 데이터 샘플이 다른 클래스에 놓이는 것을 허용하는지 \n",
    "- C값을 낮게 설정하면 이상치들이 있을 가능성을 크게 잡는다.\n",
    "- C값이 크면 울퉁불퉁한 이상값들까지 정상으로 분류하게 되어 과적합의 위험이 존재한다. \n",
    "- C값이 크면 학습 데이터를 정확히 분류 하겠지만, 새로운 데이터가 들어왔을때 어느 클래스에 속하는지 분류예측하기엔 어려움이 있다.\n",
    "\n",
    "\n",
    "\n",
    "#### 3.gamma 의 의미 \n",
    "- 하나의 데이터 샘플이 영향력을 행사하는 거리 \n",
    "- 결정경계의 곡률을 조정한다. \n",
    "- 가우시안 함수의 표준편차, gamma값이 클수록 작은 표준편차를 갖는다. \n",
    "- gamma가 클수록 한 데이터 포인터들이 영향력을 행사하는 거리가 짧아진다.\n",
    "- gamma가 작을 수록 영향력을 행사하는 거리가 커진다. \n",
    "- gamma 값이 높아질수록 분류된 데이터의 분포가 점점 작아진다. \n",
    "- gamma값이 너무 낮으면 과소적합, 너무 높으면 과대적합\n"
   ]
  },
  {
   "cell_type": "markdown",
   "metadata": {},
   "source": [
    "# 피쳐 스케일링\n",
    "\n",
    "https://subinium.github.io/feature-selection/ "
   ]
  },
  {
   "cell_type": "code",
   "execution_count": 2,
   "metadata": {},
   "outputs": [],
   "source": [
    "import pandas as pd \n",
    "\n",
    "#경고 제거 함수 \n",
    "import warnings\n",
    "warnings.filterwarnings(\"ignore\")"
   ]
  },
  {
   "cell_type": "code",
   "execution_count": 3,
   "metadata": {},
   "outputs": [
    {
     "data": {
      "text/html": [
       "<div>\n",
       "<style scoped>\n",
       "    .dataframe tbody tr th:only-of-type {\n",
       "        vertical-align: middle;\n",
       "    }\n",
       "\n",
       "    .dataframe tbody tr th {\n",
       "        vertical-align: top;\n",
       "    }\n",
       "\n",
       "    .dataframe thead th {\n",
       "        text-align: right;\n",
       "    }\n",
       "</style>\n",
       "<table border=\"1\" class=\"dataframe\">\n",
       "  <thead>\n",
       "    <tr style=\"text-align: right;\">\n",
       "      <th></th>\n",
       "      <th>회사명</th>\n",
       "      <th>거래소코드</th>\n",
       "      <th>회계년도</th>\n",
       "      <th>자산</th>\n",
       "      <th>부채</th>\n",
       "      <th>자본</th>\n",
       "      <th>매출액</th>\n",
       "      <th>매출원가</th>\n",
       "      <th>매출총이익</th>\n",
       "      <th>영업이익</th>\n",
       "      <th>...</th>\n",
       "      <th>제품</th>\n",
       "      <th>설립일</th>\n",
       "      <th>상장일</th>\n",
       "      <th>지역</th>\n",
       "      <th>Z-Score</th>\n",
       "      <th>Z-Score_ad</th>\n",
       "      <th>K1_Score</th>\n",
       "      <th>k1-Score_ad</th>\n",
       "      <th>종합 and</th>\n",
       "      <th>종합 or</th>\n",
       "    </tr>\n",
       "  </thead>\n",
       "  <tbody>\n",
       "    <tr>\n",
       "      <th>0</th>\n",
       "      <td>삼천당제약(주)</td>\n",
       "      <td>250</td>\n",
       "      <td>2017</td>\n",
       "      <td>235143417</td>\n",
       "      <td>36386893</td>\n",
       "      <td>198756523</td>\n",
       "      <td>161111597</td>\n",
       "      <td>75822851</td>\n",
       "      <td>85288747</td>\n",
       "      <td>26511831</td>\n",
       "      <td>...</td>\n",
       "      <td>하메론, 아토로우</td>\n",
       "      <td>1943-12-29</td>\n",
       "      <td>2000-10-04</td>\n",
       "      <td>경기도</td>\n",
       "      <td>63.901581</td>\n",
       "      <td>건전</td>\n",
       "      <td>17.221368</td>\n",
       "      <td>건전</td>\n",
       "      <td>건전</td>\n",
       "      <td>건전</td>\n",
       "    </tr>\n",
       "    <tr>\n",
       "      <th>1</th>\n",
       "      <td>삼천당제약(주)</td>\n",
       "      <td>250</td>\n",
       "      <td>2018</td>\n",
       "      <td>261158440</td>\n",
       "      <td>55394974</td>\n",
       "      <td>205763466</td>\n",
       "      <td>159960312</td>\n",
       "      <td>76762385</td>\n",
       "      <td>83197927</td>\n",
       "      <td>15500129</td>\n",
       "      <td>...</td>\n",
       "      <td>하메론, 아토로우</td>\n",
       "      <td>1943-12-29</td>\n",
       "      <td>2000-10-04</td>\n",
       "      <td>경기도</td>\n",
       "      <td>101.738441</td>\n",
       "      <td>건전</td>\n",
       "      <td>14.400663</td>\n",
       "      <td>건전</td>\n",
       "      <td>건전</td>\n",
       "      <td>건전</td>\n",
       "    </tr>\n",
       "    <tr>\n",
       "      <th>2</th>\n",
       "      <td>삼천당제약(주)</td>\n",
       "      <td>250</td>\n",
       "      <td>2019</td>\n",
       "      <td>290150966</td>\n",
       "      <td>66954254</td>\n",
       "      <td>223196712</td>\n",
       "      <td>186602477</td>\n",
       "      <td>75946716</td>\n",
       "      <td>110655762</td>\n",
       "      <td>25210117</td>\n",
       "      <td>...</td>\n",
       "      <td>하메론, 아토로우</td>\n",
       "      <td>1943-12-29</td>\n",
       "      <td>2000-10-04</td>\n",
       "      <td>경기도</td>\n",
       "      <td>79.254570</td>\n",
       "      <td>건전</td>\n",
       "      <td>13.803656</td>\n",
       "      <td>건전</td>\n",
       "      <td>건전</td>\n",
       "      <td>건전</td>\n",
       "    </tr>\n",
       "    <tr>\n",
       "      <th>3</th>\n",
       "      <td>삼천당제약(주)</td>\n",
       "      <td>250</td>\n",
       "      <td>2020</td>\n",
       "      <td>317078866</td>\n",
       "      <td>59382900</td>\n",
       "      <td>257695966</td>\n",
       "      <td>166862334</td>\n",
       "      <td>72862414</td>\n",
       "      <td>93999919</td>\n",
       "      <td>5522905</td>\n",
       "      <td>...</td>\n",
       "      <td>하메론, 아토로우</td>\n",
       "      <td>1943-12-29</td>\n",
       "      <td>2000-10-04</td>\n",
       "      <td>경기도</td>\n",
       "      <td>209.189271</td>\n",
       "      <td>건전</td>\n",
       "      <td>14.591120</td>\n",
       "      <td>건전</td>\n",
       "      <td>건전</td>\n",
       "      <td>건전</td>\n",
       "    </tr>\n",
       "    <tr>\n",
       "      <th>4</th>\n",
       "      <td>삼천당제약(주)</td>\n",
       "      <td>250</td>\n",
       "      <td>2021</td>\n",
       "      <td>343947668</td>\n",
       "      <td>93647149</td>\n",
       "      <td>250300519</td>\n",
       "      <td>167274904</td>\n",
       "      <td>84196690</td>\n",
       "      <td>83078214</td>\n",
       "      <td>-15293087</td>\n",
       "      <td>...</td>\n",
       "      <td>하메론, 아토로우</td>\n",
       "      <td>1943-12-29</td>\n",
       "      <td>2000-10-04</td>\n",
       "      <td>경기도</td>\n",
       "      <td>70.513870</td>\n",
       "      <td>건전</td>\n",
       "      <td>11.014805</td>\n",
       "      <td>건전</td>\n",
       "      <td>건전</td>\n",
       "      <td>건전</td>\n",
       "    </tr>\n",
       "  </tbody>\n",
       "</table>\n",
       "<p>5 rows × 71 columns</p>\n",
       "</div>"
      ],
      "text/plain": [
       "        회사명  거래소코드  회계년도         자산        부채         자본        매출액      매출원가  \\\n",
       "0  삼천당제약(주)    250  2017  235143417  36386893  198756523  161111597  75822851   \n",
       "1  삼천당제약(주)    250  2018  261158440  55394974  205763466  159960312  76762385   \n",
       "2  삼천당제약(주)    250  2019  290150966  66954254  223196712  186602477  75946716   \n",
       "3  삼천당제약(주)    250  2020  317078866  59382900  257695966  166862334  72862414   \n",
       "4  삼천당제약(주)    250  2021  343947668  93647149  250300519  167274904  84196690   \n",
       "\n",
       "       매출총이익      영업이익  ...         제품         설립일         상장일   지역  \\\n",
       "0   85288747  26511831  ...  하메론, 아토로우  1943-12-29  2000-10-04  경기도   \n",
       "1   83197927  15500129  ...  하메론, 아토로우  1943-12-29  2000-10-04  경기도   \n",
       "2  110655762  25210117  ...  하메론, 아토로우  1943-12-29  2000-10-04  경기도   \n",
       "3   93999919   5522905  ...  하메론, 아토로우  1943-12-29  2000-10-04  경기도   \n",
       "4   83078214 -15293087  ...  하메론, 아토로우  1943-12-29  2000-10-04  경기도   \n",
       "\n",
       "      Z-Score  Z-Score_ad   K1_Score  k1-Score_ad  종합 and  종합 or  \n",
       "0   63.901581          건전  17.221368           건전      건전     건전  \n",
       "1  101.738441          건전  14.400663           건전      건전     건전  \n",
       "2   79.254570          건전  13.803656           건전      건전     건전  \n",
       "3  209.189271          건전  14.591120           건전      건전     건전  \n",
       "4   70.513870          건전  11.014805           건전      건전     건전  \n",
       "\n",
       "[5 rows x 71 columns]"
      ]
     },
     "execution_count": 3,
     "metadata": {},
     "output_type": "execute_result"
    }
   ],
   "source": [
    "data = pd.read_csv('./datasets/DB-0524-1548(태환).csv',encoding='cp949',index_col=0)\n",
    "data.fillna(0, inplace=True)\n",
    "data.head()"
   ]
  },
  {
   "cell_type": "code",
   "execution_count": 4,
   "metadata": {},
   "outputs": [],
   "source": [
    "#x와 y 선정하기 \n",
    "column_list=['ROE', '현금순환주기', '이자보상배율', '복리후생비', '영업이익증가율',\n",
    "'매출총이익률', '총자산증가율', '비정규직비율', '총자산회전율', '기말인원', '유형자산증가율',\n",
    " '평균근속연수', '당좌비율', '기부금', '교육훈련비']\n",
    "x = data[column_list]\n",
    "\n",
    "y = data['k1-Score_ad']\n",
    "y = y.apply(lambda x: 1 if(x==\"부실\" or x==\"판정보류\") else 0)\n"
   ]
  },
  {
   "cell_type": "code",
   "execution_count": 5,
   "metadata": {},
   "outputs": [],
   "source": [
    "#train test validate 데이터 분리하기 \n",
    "df_17_20 = x[data['회계년도'].isin([2017,2018,2019,2020])] #train/test\n",
    "df_21 = x[data['회계년도'] == 2021] #validate\n",
    "\n",
    "\n",
    "y_17_20=y[data['회계년도'].isin([2017,2018,2019,2020])] #train/test\n",
    "y_21 = y[data['회계년도'] == 2021] #validate\n"
   ]
  },
  {
   "cell_type": "code",
   "execution_count": 6,
   "metadata": {},
   "outputs": [],
   "source": [
    "#스케일링으로 train test 값 전처리하기 \n",
    "from sklearn.preprocessing import StandardScaler\n",
    "\n",
    "st = StandardScaler()\n",
    "x= st.fit_transform(x)\n",
    "x=pd.DataFrame(x, columns=column_list)\n",
    "\n",
    "X_train=df_17_20[column_list]\n",
    "X_test=df_21[column_list]\n",
    "y_train=y_17_20\n",
    "y_test =y_21"
   ]
  },
  {
   "cell_type": "code",
   "execution_count": 7,
   "metadata": {},
   "outputs": [
    {
     "name": "stdout",
     "output_type": "stream",
     "text": [
      "train 레이블 분포(%)\n",
      "0    85.452163\n",
      "1    14.547837\n",
      "Name: k1-Score_ad, dtype: float64\n",
      "------------------------------\n",
      "test 레이블 분포(%)\n",
      "0    82.830931\n",
      "1    17.169069\n",
      "Name: k1-Score_ad, dtype: float64\n"
     ]
    }
   ],
   "source": [
    "print(\"train 레이블 분포(%)\")\n",
    "print(y_train.value_counts() / y_train.count() * 100)\n",
    "print(\"-\"*30)\n",
    "print(\"test 레이블 분포(%)\")\n",
    "print(y_test.value_counts() / y_test.count() * 100)"
   ]
  },
  {
   "cell_type": "markdown",
   "metadata": {},
   "source": [
    "### 2차 시도 언더셈플링 CNN Rule 진행  \n",
    "- https://casa-de-feel.tistory.com/15\n",
    "- Random sampling 은 샘플링시마다 데이터 결과 다르다는 단점 존재 \n",
    "- CNN은 분포가 큰 클래스 값을 효율적으로 제거\n",
    "- CNN Rule은 소수 범주에 속하는 데이터 전체와 다수 범주에 속하는 데이터 중 임의로 선택한 데이터 한 개 (A) 로 구성된 서브 데이터를 생성\n",
    "-  후 해당 데이터가 처음에 선택한 다수 범주 데이터 (A) 와 가까운지 아니면 소수 범주와 가까운지 확인하여 가까운 범주로 임시로 분류\n",
    "- 이 과정이 끝나면 정상 분류된 다수 범주 관측치를 제거하여 언더 샘플링\n",
    "\n",
    "\n",
    "\n",
    "##### CondensedNearestNeighbour\n",
    "class imblearn.under_sampling.CondensedNearestNeighbour(*, sampling_strategy='auto', random_state=None, n_neighbors=None, n_seeds_S=1, n_jobs=None)[source]\n",
    "\n",
    "* random_state : 알고리즘의 무작위화를 제어\n",
    "* n_neighbors  : 가장 가까운 이웃을 계산하기 위해 고려할 이웃의 크기, 가장 가까운 이웃을 찾는 데 사용"
   ]
  },
  {
   "cell_type": "code",
   "execution_count": 8,
   "metadata": {},
   "outputs": [],
   "source": [
    "from imblearn.under_sampling import CondensedNearestNeighbour\n",
    "\n",
    "\n",
    "\n",
    "X_train_samp, y_train_samp = CondensedNearestNeighbour(random_state=0).fit_resample(X_train, y_train)\n",
    "X_test_samp,y_test_samp = CondensedNearestNeighbour(random_state=0).fit_resample(X_test, y_test)\n",
    "# #샘플링 시각화 함수 \n",
    "# def classification_result2(X, y, title=\"\"):\n",
    "#     plt.contour(X1, X2, rv1.pdf(np.dstack([X1, X2])), levels=[0.05], linestyles=\"dashed\")\n",
    "#     plt.contour(X1, X2, rv2.pdf(np.dstack([X1, X2])), levels=[0.05], linestyles=\"dashed\")\n",
    "#     model = SVC(kernel=\"linear\", C=1e4, random_state=0).fit(X, y)\n",
    "#     Y = np.reshape(model.predict(np.array([X1.ravel(), X2.ravel()]).T), X1.shape)\n",
    "#     plt.scatter(X[y == 0, 0], X[y == 0, 1], marker='x', label=\"0 클래스\")\n",
    "#     plt.scatter(X[y == 1, 0], X[y == 1, 1], marker='o', label=\"1 클래스\")\n",
    "#     plt.contour(X1, X2, Y, colors='k', levels=[0.5])\n",
    "#     y_pred = model.predict(X)\n",
    "#     plt.xlim(-4, 4)\n",
    "#     plt.ylim(-3, 3)\n",
    "#     plt.xlabel(\"x1\")\n",
    "#     plt.ylabel(\"x2\")\n",
    "#     plt.title(title)\n",
    "#     return model\n",
    "\n",
    "# plt.subplot(121)\n",
    "# classification_result2(X_imb, y_imb)\n",
    "# plt.subplot(122)\n",
    "# model_samp = classification_result2(X_samp, y_samp)"
   ]
  },
  {
   "cell_type": "code",
   "execution_count": 9,
   "metadata": {},
   "outputs": [
    {
     "name": "stdout",
     "output_type": "stream",
     "text": [
      "y_train_samp 레이블 분포(%)\n",
      "0    62.340967\n",
      "1    37.659033\n",
      "Name: k1-Score_ad, dtype: float64\n",
      "------------------------------\n",
      "y_test_samp 레이블 분포(%)\n",
      "0    60.182371\n",
      "1    39.817629\n",
      "Name: k1-Score_ad, dtype: float64\n"
     ]
    }
   ],
   "source": [
    "print(\"y_train_samp 레이블 분포(%)\")\n",
    "print(y_train_samp.value_counts() / y_train_samp.count() * 100)\n",
    "print(\"-\"*30)\n",
    "print(\"y_test_samp 레이블 분포(%)\")\n",
    "print(y_test_samp.value_counts() / y_test_samp.count() * 100)"
   ]
  },
  {
   "cell_type": "markdown",
   "metadata": {},
   "source": [
    "# sklearn.svm.SVC\n",
    "\n",
    "*class* sklearn.svm.SVC(***, *C=1.0*, *kernel='rbf'*, *degree=3*, *gamma='scale'*, *coef0=0.0*, *shrinking=True*, *probability=False*, *tol=0.001*, *cache_size=200*, *class_weight=None*, *verbose=False*, *max_iter=- 1*, *decision_function_shape='ovr'*, *break_ties=False*, *random_state=None*)[[source]](https://github.com/scikit-learn/scikit-learn/blob/baf828ca1/sklearn/svm/_classes.py#L515)[¶](https://scikit-learn.org/stable/modules/generated/sklearn.svm.SVC.html#sklearn.svm.SVC)"
   ]
  },
  {
   "cell_type": "markdown",
   "metadata": {},
   "source": [
    "### 1차 시도 : 스케일링만 진행"
   ]
  },
  {
   "cell_type": "code",
   "execution_count": 10,
   "metadata": {},
   "outputs": [
    {
     "name": "stdout",
     "output_type": "stream",
     "text": [
      "AUC: 0.5000\n",
      "              precision    recall  f1-score   support\n",
      "\n",
      "           0       0.83      1.00      0.91       632\n",
      "           1       0.00      0.00      0.00       131\n",
      "\n",
      "    accuracy                           0.83       763\n",
      "   macro avg       0.41      0.50      0.45       763\n",
      "weighted avg       0.69      0.83      0.75       763\n",
      "\n"
     ]
    }
   ],
   "source": [
    "from sklearn import svm\n",
    "clf = svm.SVC(gamma=0.0001, C=3000,probability=True)\n",
    "clf.fit(X_train,y_train)\n",
    "predictions = clf.predict(X_test)\n",
    "# print(f'y_test set : {y_test}')\n",
    "\n",
    "#정확도 검증해보기 \n",
    "from sklearn.metrics import accuracy_score,f1_score,roc_auc_score,classification_report \n",
    "# print(f'정확도 : {accuracy_score(y_test,predictions)}')\n",
    "# print(f'f1 score : {f1_score(y_test,predictions)}')\n",
    "xgb_roc_auc = roc_auc_score(y_test, predictions, average=\"macro\")\n",
    "print(f\"AUC: {xgb_roc_auc:.4f}\")\n",
    "print(classification_report(y_test, predictions))"
   ]
  },
  {
   "cell_type": "markdown",
   "metadata": {},
   "source": [
    "### 2차 시도 : CNN Rule Under Sampling 진행 \n"
   ]
  },
  {
   "cell_type": "code",
   "execution_count": 11,
   "metadata": {},
   "outputs": [
    {
     "name": "stdout",
     "output_type": "stream",
     "text": [
      "AUC: 0.5000\n",
      "              precision    recall  f1-score   support\n",
      "\n",
      "           0       0.60      1.00      0.75       198\n",
      "           1       0.00      0.00      0.00       131\n",
      "\n",
      "    accuracy                           0.60       329\n",
      "   macro avg       0.30      0.50      0.38       329\n",
      "weighted avg       0.36      0.60      0.45       329\n",
      "\n"
     ]
    }
   ],
   "source": [
    "from sklearn import svm\n",
    "clf = svm.SVC(gamma=0.0001, C=3000,probability=True)\n",
    "clf.fit(X_train_samp,y_train_samp)\n",
    "predictions = clf.predict(X_test_samp)\n",
    "# print(f'y_test set : {y_test}')\n",
    "\n",
    "#정확도 검증해보기 \n",
    "from sklearn.metrics import accuracy_score,f1_score,roc_auc_score,classification_report \n",
    "# print(f'정확도 : {accuracy_score(y_test,predictions)}')\n",
    "# print(f'f1 score : {f1_score(y_test,predictions)}')\n",
    "xgb_roc_auc = roc_auc_score(y_test_samp, predictions, average=\"macro\")\n",
    "print(f\"AUC: {xgb_roc_auc:.4f}\")\n",
    "print(classification_report(y_test_samp, predictions))"
   ]
  },
  {
   "cell_type": "markdown",
   "metadata": {},
   "source": [
    "---------"
   ]
  },
  {
   "cell_type": "markdown",
   "metadata": {},
   "source": [
    "# 시각화 \n",
    "- https://scikit-learn.org/stable/auto_examples/calibration/plot_calibration_curve.html#sphx-glr-auto-examples-calibration-plot-calibration-curve-py"
   ]
  },
  {
   "cell_type": "markdown",
   "metadata": {},
   "source": [
    "### 1차 시각화: 스케일링만 진행"
   ]
  },
  {
   "cell_type": "code",
   "execution_count": 37,
   "metadata": {},
   "outputs": [],
   "source": [
    "import numpy as np\n",
    "\n",
    "from sklearn.svm import LinearSVC\n",
    "\n",
    "\n",
    "class NaivelyCalibratedLinearSVC(LinearSVC):\n",
    "    \"\"\"LinearSVC with `predict_proba` method that naively scales\n",
    "    `decision_function` output for binary classification.\"\"\"\n",
    "\n",
    "    def fit(self, X, y):\n",
    "        super().fit(X, y)\n",
    "        df = self.decision_function(X)\n",
    "        self.df_min_ = df.min()\n",
    "        self.df_max_ = df.max()\n",
    "\n",
    "    def predict_proba(self, X):\n",
    "        \"\"\"Min-max scale output of `decision_function` to [0, 1].\"\"\"\n",
    "        df = self.decision_function(X)\n",
    "        calibrated_df = (df - self.df_min_) / (self.df_max_ - self.df_min_)\n",
    "        proba_pos_class = np.clip(calibrated_df, 0, 1)\n",
    "        proba_neg_class = 1 - proba_pos_class\n",
    "        proba = np.c_[proba_neg_class, proba_pos_class]\n",
    "        return proba"
   ]
  },
  {
   "cell_type": "code",
   "execution_count": 43,
   "metadata": {},
   "outputs": [],
   "source": [
    "from sklearn.linear_model import LogisticRegression\n",
    "from sklearn.calibration import CalibratedClassifierCV,CalibrationDisplay\n",
    "\n",
    "lr = LogisticRegression(C=1.0)\n",
    "svc = NaivelyCalibratedLinearSVC(max_iter=10_000)\n",
    "svc_isotonic = CalibratedClassifierCV(svc, cv=2, method=\"isotonic\")\n",
    "svc_sigmoid = CalibratedClassifierCV(svc, cv=2, method=\"sigmoid\")\n",
    "\n",
    "clf_list = [\n",
    "    (lr, \"Logistic\"),\n",
    "    (svc, \"SVC\"),\n",
    "    (svc_isotonic, \"SVC + Isotonic\"),\n",
    "    (svc_sigmoid, \"SVC + Sigmoid\"),\n",
    "]"
   ]
  },
  {
   "cell_type": "code",
   "execution_count": 48,
   "metadata": {},
   "outputs": [
    {
     "data": {
      "image/png": "[encoded data removed]",
      "text/plain": [
       "<Figure size 720x720 with 5 Axes>"
      ]
     },
     "metadata": {
      "needs_background": "light"
     },
     "output_type": "display_data"
    }
   ],
   "source": [
    "import matplotlib.pyplot as plt \n",
    "from matplotlib.gridspec import GridSpec\n",
    "\n",
    "fig = plt.figure(figsize=(10, 10))\n",
    "gs = GridSpec(4, 2)\n",
    "\n",
    "ax_calibration_curve = fig.add_subplot(gs[:2, :2])\n",
    "calibration_displays = {}\n",
    "for i, (clf, name) in enumerate(clf_list):\n",
    "    clf.fit(X_train, y_train)\n",
    "    display = CalibrationDisplay.from_estimator(\n",
    "        clf,\n",
    "        X_test,\n",
    "        y_test,\n",
    "        n_bins=10,\n",
    "        name=name,\n",
    "        ax=ax_calibration_curve,\n",
    "        # color=colors(i),\n",
    "    )\n",
    "    calibration_displays[name] = display\n",
    "\n",
    "ax_calibration_curve.grid()\n",
    "ax_calibration_curve.set_title(\"Calibration plots (SVC)\")\n",
    "\n",
    "# Add histogram\n",
    "grid_positions = [(2, 0), (2, 1), (3, 0), (3, 1)]\n",
    "for i, (_, name) in enumerate(clf_list):\n",
    "    row, col = grid_positions[i]\n",
    "    ax = fig.add_subplot(gs[row, col])\n",
    "\n",
    "    ax.hist(\n",
    "        calibration_displays[name].y_prob,\n",
    "        range=(0, 1),\n",
    "        bins=10,\n",
    "        label=name,\n",
    "        # color=colors(i),\n",
    "    )\n",
    "    ax.set(title=name, xlabel=\"Mean predicted probability\", ylabel=\"Count\")\n",
    "\n",
    "plt.tight_layout()\n",
    "plt.show()"
   ]
  },
  {
   "cell_type": "code",
   "execution_count": 49,
   "metadata": {},
   "outputs": [
    {
     "data": {
      "text/html": [
       "<div>\n",
       "<style scoped>\n",
       "    .dataframe tbody tr th:only-of-type {\n",
       "        vertical-align: middle;\n",
       "    }\n",
       "\n",
       "    .dataframe tbody tr th {\n",
       "        vertical-align: top;\n",
       "    }\n",
       "\n",
       "    .dataframe thead th {\n",
       "        text-align: right;\n",
       "    }\n",
       "</style>\n",
       "<table border=\"1\" class=\"dataframe\">\n",
       "  <thead>\n",
       "    <tr style=\"text-align: right;\">\n",
       "      <th></th>\n",
       "      <th>Brier  loss</th>\n",
       "      <th>Log loss</th>\n",
       "      <th>Precision</th>\n",
       "      <th>Recall</th>\n",
       "      <th>F1</th>\n",
       "      <th>Roc auc</th>\n",
       "    </tr>\n",
       "    <tr>\n",
       "      <th>Classifier</th>\n",
       "      <th></th>\n",
       "      <th></th>\n",
       "      <th></th>\n",
       "      <th></th>\n",
       "      <th></th>\n",
       "      <th></th>\n",
       "    </tr>\n",
       "  </thead>\n",
       "  <tbody>\n",
       "    <tr>\n",
       "      <th>Logistic</th>\n",
       "      <td>0.149519</td>\n",
       "      <td>0.544801</td>\n",
       "      <td>0.0</td>\n",
       "      <td>0.0</td>\n",
       "      <td>0.0</td>\n",
       "      <td>0.5</td>\n",
       "    </tr>\n",
       "    <tr>\n",
       "      <th>SVC</th>\n",
       "      <td>0.775695</td>\n",
       "      <td>3.327680</td>\n",
       "      <td>0.0</td>\n",
       "      <td>0.0</td>\n",
       "      <td>0.0</td>\n",
       "      <td>0.5</td>\n",
       "    </tr>\n",
       "    <tr>\n",
       "      <th>SVC + Isotonic</th>\n",
       "      <td>0.141683</td>\n",
       "      <td>0.456790</td>\n",
       "      <td>0.0</td>\n",
       "      <td>0.0</td>\n",
       "      <td>0.0</td>\n",
       "      <td>0.5</td>\n",
       "    </tr>\n",
       "    <tr>\n",
       "      <th>SVC + Sigmoid</th>\n",
       "      <td>0.141853</td>\n",
       "      <td>0.456970</td>\n",
       "      <td>0.0</td>\n",
       "      <td>0.0</td>\n",
       "      <td>0.0</td>\n",
       "      <td>0.5</td>\n",
       "    </tr>\n",
       "  </tbody>\n",
       "</table>\n",
       "</div>"
      ],
      "text/plain": [
       "                Brier  loss  Log loss  Precision   Recall   F1   Roc auc \n",
       "Classifier                                                               \n",
       "Logistic           0.149519  0.544801         0.0      0.0  0.0       0.5\n",
       "SVC                0.775695  3.327680         0.0      0.0  0.0       0.5\n",
       "SVC + Isotonic     0.141683  0.456790         0.0      0.0  0.0       0.5\n",
       "SVC + Sigmoid      0.141853  0.456970         0.0      0.0  0.0       0.5"
      ]
     },
     "execution_count": 49,
     "metadata": {},
     "output_type": "execute_result"
    }
   ],
   "source": [
    "from collections import defaultdict \n",
    "from sklearn.metrics import brier_score_loss,log_loss,precision_score,recall_score\n",
    "\n",
    "scores = defaultdict(list)\n",
    "for i, (clf, name) in enumerate(clf_list):\n",
    "    clf.fit(X_train, y_train)\n",
    "    y_prob = clf.predict_proba(X_test)\n",
    "    y_pred = clf.predict(X_test)\n",
    "    scores[\"Classifier\"].append(name)\n",
    "\n",
    "    for metric in [brier_score_loss, log_loss]:\n",
    "        score_name = metric.__name__.replace(\"_\", \" \").replace(\"score\", \"\").capitalize()\n",
    "        scores[score_name].append(metric(y_test, y_prob[:, 1]))\n",
    "\n",
    "    for metric in [precision_score, recall_score, f1_score, roc_auc_score]:\n",
    "        score_name = metric.__name__.replace(\"_\", \" \").replace(\"score\", \"\").capitalize()\n",
    "        scores[score_name].append(metric(y_test, y_pred))\n",
    "\n",
    "    score_df = pd.DataFrame(scores).set_index(\"Classifier\")\n",
    "    score_df.round(decimals=3)\n",
    "\n",
    "score_df"
   ]
  },
  {
   "cell_type": "markdown",
   "metadata": {},
   "source": [
    "### 2차 시도 CNN RUlE Under sampling 시각화 "
   ]
  },
  {
   "cell_type": "code",
   "execution_count": null,
   "metadata": {},
   "outputs": [],
   "source": []
  }
 ],
 "metadata": {
  "interpreter": {
   "hash": "d45b69a850c77ae2cb7037dbd645e47e0fcc7d99b644c328de8a25bc120f7c83"
  },
  "kernelspec": {
   "display_name": "Python 3.9.12 64-bit",
   "language": "python",
   "name": "python3"
  },
  "language_info": {
   "codemirror_mode": {
    "name": "ipython",
    "version": 3
   },
   "file_extension": ".py",
   "mimetype": "text/x-python",
   "name": "python",
   "nbconvert_exporter": "python",
   "pygments_lexer": "ipython3",
   "version": "3.9.12"
  },
  "orig_nbformat": 4
 },
 "nbformat": 4,
 "nbformat_minor": 2
}
