{
 "cells": [
  {
   "cell_type": "code",
   "execution_count": 139,
   "metadata": {},
   "outputs": [
    {
     "data": {
      "text/plain": [
       "Index(['Unnamed: 0', '회사명', '거래소코드', '회계년도', '자산', '부채', '자본', '매출액', '매출원가',\n",
       "       '매출총이익', '영업이익', '당기순이익', '유동자산', '당좌자산', '재고자산', '유동부채', '매출채권',\n",
       "       '매입채무', '단기차입금', '장기차입금', '사채', '유형자산', '이익잉여금', '이자비용',\n",
       "       '영업활동으로 인한 현금흐름', '투자활동으로 인한 현금흐름', '재무활동으로 인한 현금흐름', '이자수익', '법인세비용',\n",
       "       '지분법이익', '지분법손실', '시총', '유동비율', '당좌비율', '부채비율', '차입금의존도', '이자보상배율',\n",
       "       '매출총이익률', '영업이익률', '당기순이익률', 'ROA', 'ROE', '재고자산회전율', '매출채권회전율',\n",
       "       '총자산회전율', '매입채무회전율', '현금순환주기', '매출액증가율', '영업이익증가율', '유형자산증가율', '총자산증가율',\n",
       "       '복리후생비', '교육훈련비', '경상개발비', '기부금', '기말인원', '평균근속연수', '비정규직비율', '여성고용률',\n",
       "       '공공조달은1', '패턴', '산업', '제품', '설립일', '상장일', '지역', 'Z-Score', 'Z-Score_ad',\n",
       "       'K1_Score', 'k1-Score_ad', '종합 and', '종합 or'],\n",
       "      dtype='object')"
      ]
     },
     "execution_count": 139,
     "metadata": {},
     "output_type": "execute_result"
    }
   ],
   "source": [
    "import warnings\n",
    "warnings.filterwarnings('always')\n",
    "warnings.filterwarnings('ignore')\n",
    "import pandas as pd\n",
    "import numpy as np\n",
    "import matplotlib.pyplot as plt\n",
    "from sklearn.linear_model import LogisticRegression, Ridge, Lasso, ElasticNet\n",
    "from sklearn.model_selection import train_test_split\n",
    "from sklearn.preprocessing import StandardScaler\n",
    "\n",
    "data = pd.read_excel(\"진짜진짜최종.xlsx\")\n",
    "data.fillna(0, inplace=True)\n",
    "data.columns"
   ]
  },
  {
   "cell_type": "code",
   "execution_count": 140,
   "metadata": {},
   "outputs": [],
   "source": [
    "df_17_20 = data[data['회계년도']== (2017 or 2018 or 2019 or 2020)] #train/validate\n",
    "df_21 = data[data['회계년도'] == 2021] #test"
   ]
  },
  {
   "cell_type": "code",
   "execution_count": 184,
   "metadata": {},
   "outputs": [],
   "source": [
    "\n",
    "data = pd.read_csv(\"./진짜진짜최종.csv\", encoding =\"cp949\",index_col=0)\n",
    "data.fillna(0, inplace=True)\n",
    "\n",
    "column_list = ['이자보상배율',\n",
    "       '매출총이익률', '영업이익률', '당기순이익률', 'ROA', 'ROE', '재고자산회전율', '매출채권회전율',\n",
    "       '총자산회전율', '매입채무회전율', '현금순환주기', '매출액증가율', '영업이익증가율', '유형자산증가율', '총자산증가율',\n",
    "       '복리후생비', '교육훈련비', '경상개발비', '기부금', '기말인원', '평균근속연수', '비정규직비율', '여성고용률',\n",
    "       '공공조달은1']\n",
    "\n",
    "new_column_list = ['ROE', '복리후생비', '매출채권회전율', '매입채무회전율', '이자보상배율', '기말인원', '매출총이익률',\n",
    "       '여성고용률', '매출액증가율', '영업이익증가율', '현금순환주기', '재고자산회전율', '평균근속연수', '기부금',\n",
    "       '교육훈련비', '영업이익률', '총자산증가율', '공공조달은1', '총자산회전율', 'ROA', '당기순이익률',\n",
    "       '유형자산증가율']\n",
    "\n",
    "X = data[new_column_list]\n",
    "df_17_20 = X[data['회계년도'].isin([2017,2018,2019,2020])] #train/validate\n",
    "df_21 = X[data['회계년도'] == 2021] #test\n",
    "y = data['k1-Score_ad']\n",
    "y = y.apply(lambda x: 1 if(x==\"부실\" or x==\"판정보류\") else 0)\n",
    "y_17_20=y[data['회계년도'].isin([2017,2018,2019,2020])] #train/validate\n",
    "y_21 = y[data['회계년도'] == 2021] #test\n",
    "\n",
    "X_train=df_17_20[new_column_list]\n",
    "X_test=df_21[new_column_list]\n",
    "y_train=y_17_20\n",
    "y_test =y_21"
   ]
  },
  {
   "cell_type": "code",
   "execution_count": 115,
   "metadata": {},
   "outputs": [
    {
     "name": "stdout",
     "output_type": "stream",
     "text": [
      "56 36 671\n"
     ]
    }
   ],
   "source": [
    "new_y = df_17_20['k1-Score_ad']\n",
    "\n",
    "print(sum(new_y=='부실'), sum(new_y=='판정보류'), sum(new_y=='건전'))"
   ]
  },
  {
   "cell_type": "code",
   "execution_count": 185,
   "metadata": {},
   "outputs": [
    {
     "name": "stdout",
     "output_type": "stream",
     "text": [
      "결정 트리 예측 정확도: 0.8702\n",
      "DecisionTreeClassifier 기본 하이퍼 파라미터:\n",
      " {'ccp_alpha': 0.0, 'class_weight': None, 'criterion': 'gini', 'max_depth': None, 'max_features': None, 'max_leaf_nodes': None, 'min_impurity_decrease': 0.0, 'min_impurity_split': None, 'min_samples_leaf': 1, 'min_samples_split': 2, 'min_weight_fraction_leaf': 0.0, 'random_state': 42, 'splitter': 'best'}\n"
     ]
    }
   ],
   "source": [
    "from sklearn.tree import DecisionTreeClassifier\n",
    "from sklearn.metrics import accuracy_score\n",
    "\n",
    "#예제 반복 시 마다 동일한 예측 결과 도출을 위해 random_state 설정\n",
    "dt_clf = DecisionTreeClassifier(random_state=42)\n",
    "dt_clf.fit(X_train, y_train)\n",
    "pred = dt_clf.predict(X_test)\n",
    "accuracy = accuracy_score(y_test, pred)\n",
    "print('결정 트리 예측 정확도: {0:.4f}'.format(accuracy))\n",
    "\n",
    "#DecisionTreeClassifier의 하이퍼 파라미터 추출\n",
    "print('DecisionTreeClassifier 기본 하이퍼 파라미터:\\n', dt_clf.get_params())"
   ]
  },
  {
   "cell_type": "code",
   "execution_count": 143,
   "metadata": {},
   "outputs": [
    {
     "data": {
      "text/plain": [
       "array([[ 0.46935208,  0.16119517, -0.05757019, ...,  0.13495899,\n",
       "         0.4564496 ,  6.70739279],\n",
       "       [ 0.08143886,  0.17907949,  0.04776887, ...,  1.09633182,\n",
       "        -0.53635417, -0.13080431],\n",
       "       [ 0.0651205 , -2.1304519 ,  0.15315044, ..., -0.50595622,\n",
       "        -0.58174304, -0.23492862],\n",
       "       ...,\n",
       "       [ 0.32677749,  0.29516141, -0.0572937 , ..., -0.82641383,\n",
       "        -0.09861811,  1.03984495],\n",
       "       [ 1.00400948,  0.25781292, -0.04571681, ..., -1.46732905,\n",
       "        -0.19618375, -0.18382571],\n",
       "       [-0.69246474, -0.44527469, -0.10860029, ..., -0.68398823,\n",
       "        -0.24252529, -0.21737014]])"
      ]
     },
     "execution_count": 143,
     "metadata": {},
     "output_type": "execute_result"
    }
   ],
   "source": [
    "X"
   ]
  },
  {
   "cell_type": "code",
   "execution_count": 144,
   "metadata": {},
   "outputs": [
    {
     "data": {
      "text/plain": [
       "0       0\n",
       "5       0\n",
       "10      1\n",
       "15      0\n",
       "20      0\n",
       "       ..\n",
       "3790    0\n",
       "3795    0\n",
       "3800    0\n",
       "3805    0\n",
       "3810    0\n",
       "Name: k1-Score_ad, Length: 763, dtype: int64"
      ]
     },
     "execution_count": 144,
     "metadata": {},
     "output_type": "execute_result"
    }
   ],
   "source": [
    "y"
   ]
  },
  {
   "cell_type": "code",
   "execution_count": 146,
   "metadata": {},
   "outputs": [
    {
     "name": "stdout",
     "output_type": "stream",
     "text": [
      "21년도 결정 트리 예측 정확도: 0.8309\n"
     ]
    }
   ],
   "source": [
    "## 검증\n",
    "X_21 = df_21[['ROE', '현금순환주기', '이자보상배율', '복리후생비', '영업이익증가율','매출총이익률', '총자산증가율',\n",
    "        '비정규직비율', '총자산회전율', '기말인원', '유형자산증가율', '평균근속연수', '당좌비율', '교육훈련비']]\n",
    "\n",
    "y_21 = df_21['k1-Score_ad']\n",
    "y_21 = y_21.apply(lambda x: 1 if(x==\"부실\" or x==\"판정보류\") else 0)\n",
    "st = StandardScaler()\n",
    "X_21 = st.fit_transform(X_21)\n",
    "\n",
    "pred_21 = dt_clf.predict(X_21)\n",
    "accuracy_21 = accuracy_score(y_21, pred_21)\n",
    "print('21년도 결정 트리 예측 정확도: {0:.4f}'.format(accuracy_21))"
   ]
  },
  {
   "cell_type": "code",
   "execution_count": 186,
   "metadata": {},
   "outputs": [
    {
     "name": "stdout",
     "output_type": "stream",
     "text": [
      "Fitting 5 folds for each of 7 candidates, totalling 35 fits\n",
      "GridSearchCV 최고 평균 정확도 수치:0.8804\n",
      "GridSearchCV 최적 하이퍼 파라미터: {'max_depth': 6}\n"
     ]
    }
   ],
   "source": [
    "from sklearn.model_selection import GridSearchCV\n",
    "\n",
    "params = { \n",
    "    'max_depth': [6,8,10,12,16,20,24]\n",
    "}\n",
    "\n",
    "grid_cv = GridSearchCV(dt_clf, param_grid=params, scoring='accuracy', cv=5, verbose=1)\n",
    "grid_cv.fit(X_train, y_train)\n",
    "print('GridSearchCV 최고 평균 정확도 수치:{0:.4f}'.format(grid_cv.best_score_))\n",
    "print('GridSearchCV 최적 하이퍼 파라미터:', grid_cv.best_params_)"
   ]
  },
  {
   "cell_type": "code",
   "execution_count": 187,
   "metadata": {},
   "outputs": [
    {
     "data": {
      "text/html": [
       "<div>\n",
       "<style scoped>\n",
       "    .dataframe tbody tr th:only-of-type {\n",
       "        vertical-align: middle;\n",
       "    }\n",
       "\n",
       "    .dataframe tbody tr th {\n",
       "        vertical-align: top;\n",
       "    }\n",
       "\n",
       "    .dataframe thead th {\n",
       "        text-align: right;\n",
       "    }\n",
       "</style>\n",
       "<table border=\"1\" class=\"dataframe\">\n",
       "  <thead>\n",
       "    <tr style=\"text-align: right;\">\n",
       "      <th></th>\n",
       "      <th>param_max_depth</th>\n",
       "      <th>mean_test_score</th>\n",
       "    </tr>\n",
       "  </thead>\n",
       "  <tbody>\n",
       "    <tr>\n",
       "      <th>0</th>\n",
       "      <td>6</td>\n",
       "      <td>0.880400</td>\n",
       "    </tr>\n",
       "    <tr>\n",
       "      <th>1</th>\n",
       "      <td>8</td>\n",
       "      <td>0.870243</td>\n",
       "    </tr>\n",
       "    <tr>\n",
       "      <th>2</th>\n",
       "      <td>10</td>\n",
       "      <td>0.866636</td>\n",
       "    </tr>\n",
       "    <tr>\n",
       "      <th>3</th>\n",
       "      <td>12</td>\n",
       "      <td>0.848941</td>\n",
       "    </tr>\n",
       "    <tr>\n",
       "      <th>4</th>\n",
       "      <td>16</td>\n",
       "      <td>0.855172</td>\n",
       "    </tr>\n",
       "    <tr>\n",
       "      <th>5</th>\n",
       "      <td>20</td>\n",
       "      <td>0.855500</td>\n",
       "    </tr>\n",
       "    <tr>\n",
       "      <th>6</th>\n",
       "      <td>24</td>\n",
       "      <td>0.855500</td>\n",
       "    </tr>\n",
       "  </tbody>\n",
       "</table>\n",
       "</div>"
      ],
      "text/plain": [
       "  param_max_depth  mean_test_score\n",
       "0               6         0.880400\n",
       "1               8         0.870243\n",
       "2              10         0.866636\n",
       "3              12         0.848941\n",
       "4              16         0.855172\n",
       "5              20         0.855500\n",
       "6              24         0.855500"
      ]
     },
     "execution_count": 187,
     "metadata": {},
     "output_type": "execute_result"
    }
   ],
   "source": [
    "#GridSearchCV 객체의 cv_results_ 속성을 DataFrame으로 생성\n",
    "cv_results_df = pd.DataFrame(grid_cv.cv_results_)\n",
    "\n",
    "#max_depth 파라미터 값과 그때의 테스트(Evaluation)셋, 학습 데이터 셋의 정확도 수치 추출\n",
    "cv_results_df[['param_max_depth', 'mean_test_score']]"
   ]
  },
  {
   "cell_type": "code",
   "execution_count": 188,
   "metadata": {},
   "outputs": [
    {
     "name": "stdout",
     "output_type": "stream",
     "text": [
      "max_depth = 6 정확도: 0.8899\n",
      "max_depth = 8 정확도: 0.8650\n",
      "max_depth = 10 정확도: 0.8585\n",
      "max_depth = 12 정확도: 0.8663\n",
      "max_depth = 16 정확도: 0.8585\n",
      "max_depth = 20 정확도: 0.8493\n",
      "max_depth = 24 정확도: 0.8493\n"
     ]
    }
   ],
   "source": [
    "max_depths = [6,8,10,12,16,20,24]\n",
    "#max_depth 값을 변화시키면서 그때마다 학습과 데이터 셋에서의 예측 성능 측정\n",
    "for depth in max_depths:\n",
    "    dt_clf = DecisionTreeClassifier(max_depth=depth, random_state=156)\n",
    "    dt_clf.fit(X_train, y_train)\n",
    "    pred = dt_clf.predict(X_test)\n",
    "    accuracy = accuracy_score(y_test, pred)\n",
    "    print('max_depth = {0} 정확도: {1:.4f}'.format(depth, accuracy))"
   ]
  },
  {
   "cell_type": "code",
   "execution_count": 189,
   "metadata": {},
   "outputs": [
    {
     "name": "stdout",
     "output_type": "stream",
     "text": [
      "Fitting 5 folds for each of 8 candidates, totalling 40 fits\n",
      "GridSearchCV 최고 평균 정확도 수치: 0.8676\n",
      "GridSearchCV 최적 하이퍼 파라미터: {'max_depth': 8, 'min_samples_split': 24}\n"
     ]
    }
   ],
   "source": [
    "params = {\n",
    "    'max_depth' : [8,12,16,20],\n",
    "    'min_samples_split' : [16,24],\n",
    "}\n",
    "\n",
    "grid_cv = GridSearchCV(dt_clf, param_grid=params, scoring='accuracy', cv=5, verbose=1)\n",
    "grid_cv.fit(X_train, y_train)\n",
    "print('GridSearchCV 최고 평균 정확도 수치: {0:.4f}'.format(grid_cv.best_score_))\n",
    "print('GridSearchCV 최적 하이퍼 파라미터:', grid_cv.best_params_)"
   ]
  },
  {
   "cell_type": "code",
   "execution_count": 204,
   "metadata": {},
   "outputs": [
    {
     "name": "stdout",
     "output_type": "stream",
     "text": [
      "교차 검증별 정확도: [0.8494 0.8674 0.859  0.8492 0.823 ]\n",
      "평균 검증 정확도: 0.8496\n"
     ]
    }
   ],
   "source": [
    "## 교차검증 cross_val\n",
    "from sklearn.tree import DecisionTreeClassifier\n",
    "from sklearn.model_selection import cross_val_score, cross_validate\n",
    "\n",
    "dt_clf = DecisionTreeClassifier(random_state=156)\n",
    "\n",
    "#성능 지표는 정확도(accuracy), 교차 검증 세트는 3개\n",
    "scores = cross_val_score(dt_clf, X_train, y_train, scoring='accuracy', cv=5)\n",
    "print('교차 검증별 정확도:', np.round(scores, 4))\n",
    "print('평균 검증 정확도:', np.round(np.mean(scores), 4))"
   ]
  },
  {
   "cell_type": "code",
   "execution_count": 203,
   "metadata": {},
   "outputs": [
    {
     "name": "stdout",
     "output_type": "stream",
     "text": [
      "결정 트리 예측 정확도:0.8781\n"
     ]
    }
   ],
   "source": [
    "best_df_clf = grid_cv.best_estimator_\n",
    "pred1 = best_df_clf.predict(X_test)\n",
    "accuracy = accuracy_score(y_test, pred1)\n",
    "print('결정 트리 예측 정확도:{0:.4f}'.format(accuracy))"
   ]
  },
  {
   "cell_type": "code",
   "execution_count": 206,
   "metadata": {},
   "outputs": [
    {
     "name": "stdout",
     "output_type": "stream",
     "text": [
      "ROE : 0.530\n",
      "복리후생비 : 0.110\n",
      "매출채권회전율 : 0.050\n",
      "매입채무회전율 : 0.052\n",
      "이자보상배율 : 0.040\n",
      "기말인원 : 0.029\n",
      "매출총이익률 : 0.032\n",
      "여성고용률 : 0.033\n",
      "매출액증가율 : 0.016\n",
      "영업이익증가율 : 0.016\n",
      "현금순환주기 : 0.015\n",
      "재고자산회전율 : 0.008\n",
      "평균근속연수 : 0.013\n",
      "기부금 : 0.006\n",
      "교육훈련비 : 0.013\n",
      "영업이익률 : 0.008\n",
      "총자산증가율 : 0.008\n",
      "공공조달은1 : 0.000\n",
      "총자산회전율 : 0.006\n",
      "ROA : 0.006\n",
      "당기순이익률 : 0.004\n",
      "유형자산증가율 : 0.004\n"
     ]
    },
    {
     "data": {
      "image/png": "[encoded data removed]",
      "text/plain": [
       "<Figure size 576x432 with 1 Axes>"
      ]
     },
     "metadata": {
      "needs_background": "light"
     },
     "output_type": "display_data"
    }
   ],
   "source": [
    "import seaborn as sns\n",
    "import matplotlib.pyplot as plt\n",
    "from matplotlib import rc\n",
    "%matplotlib inline\n",
    "\n",
    "ftr_importances_values = best_df_clf.feature_importances_\n",
    "#Top 중요도로 정렬을 쉽게 하고, 시본(seaborn)의 막대그래프로 쉽게 표현하기 위해 Series 변환\n",
    "ftr_importances = pd.Series(ftr_importances_values, index=X_train.columns)\n",
    "\n",
    "# feature 별 importance 매핑\n",
    "features = []\n",
    "for name, value in zip(X_train.columns, ftr_importances_values) :\n",
    "    print(f\"{name} : {value:.3f}\")\n",
    "    features.append({name : np.round(value, 3)})\n",
    "\n",
    "\n",
    "#중요도 값 순으로 Series 정렬\n",
    "ftr_top14 = ftr_importances.sort_values(ascending=False)[:24]\n",
    "rc('font', family='AppleGothic')\n",
    "plt.rcParams['axes.unicode_minus'] = False\n",
    "plt.figure(figsize=(8,6))\n",
    "plt.title('Feature Importances')\n",
    "sns.barplot(x=ftr_top14, y=ftr_top14.index)\n",
    "plt.show()"
   ]
  },
  {
   "cell_type": "code",
   "execution_count": 183,
   "metadata": {},
   "outputs": [
    {
     "data": {
      "text/plain": [
       "Index(['ROE', '복리후생비', '매출채권회전율', '매입채무회전율', '이자보상배율', '기말인원', '매출총이익률',\n",
       "       '여성고용률', '매출액증가율', '영업이익증가율', '현금순환주기', '재고자산회전율', '평균근속연수', '기부금',\n",
       "       '교육훈련비', '영업이익률', '총자산증가율', '공공조달은1', '총자산회전율', 'ROA', '당기순이익률',\n",
       "       '유형자산증가율', '경상개발비', '비정규직비율'],\n",
       "      dtype='object')"
      ]
     },
     "execution_count": 183,
     "metadata": {},
     "output_type": "execute_result"
    }
   ],
   "source": [
    "ftr_top14.index"
   ]
  },
  {
   "cell_type": "markdown",
   "metadata": {},
   "source": [
    "'ROE', '현금순환주기', '이자보상배율', '복리후생비', '영업이익증가율','매출총이익률', '총자산증가율', '비정규직비율', '총자산회전율', '기말인원', '유형자산증가율', '평균근속연수', '당좌비율', '교육훈련비'"
   ]
  },
  {
   "cell_type": "markdown",
   "metadata": {},
   "source": [
    "## 평가"
   ]
  },
  {
   "cell_type": "markdown",
   "metadata": {},
   "source": [
    "정확도&재현율"
   ]
  },
  {
   "cell_type": "code",
   "execution_count": 192,
   "metadata": {},
   "outputs": [],
   "source": [
    "from sklearn.metrics import accuracy_score, precision_score, recall_score, confusion_matrix\n",
    "\n",
    "def get_clf_eval(y_test, pred):\n",
    "    confusion = confusion_matrix(y_test, pred)\n",
    "    accuracy = accuracy_score(y_test, pred)\n",
    "    precision = precision_score(y_test, pred)\n",
    "    recall = recall_score(y_test, pred)\n",
    "    print('오차 행렬')\n",
    "    print(confusion)\n",
    "    print('정확도 {0:.4f}, 정밀도:{1:.4f}, 재현율:{2:.4f}'.format(accuracy, precision, recall))"
   ]
  },
  {
   "cell_type": "code",
   "execution_count": 193,
   "metadata": {},
   "outputs": [
    {
     "name": "stdout",
     "output_type": "stream",
     "text": [
      "오차 행렬\n",
      "[[588  44]\n",
      " [ 71  60]]\n",
      "정확도 0.8493, 정밀도:0.5769, 재현율:0.4580\n"
     ]
    }
   ],
   "source": [
    "import numpy as np\n",
    "import pandas as pd\n",
    "\n",
    "from sklearn.model_selection import train_test_split\n",
    "from sklearn.linear_model import LogisticRegression\n",
    "\n",
    "get_clf_eval(y_test, pred)"
   ]
  },
  {
   "cell_type": "code",
   "execution_count": 194,
   "metadata": {},
   "outputs": [
    {
     "name": "stdout",
     "output_type": "stream",
     "text": [
      "pred_proba() 결과 Shape: (763, 2)\n",
      "pred_proba array에서 앞 5개만 샘플로 추출 \n",
      ": [[1. 0.]\n",
      " [1. 0.]\n",
      " [0. 1.]\n",
      " [1. 0.]\n",
      " [1. 0.]]\n",
      "두개의 class 중에서 더 큰 확률을 클래스 값으로 예측 \n",
      " [[1. 0. 0.]\n",
      " [1. 0. 0.]\n",
      " [0. 1. 1.]]\n"
     ]
    }
   ],
   "source": [
    "pred_proba = dt_clf.predict_proba(X_test)\n",
    "pred = dt_clf.predict(X_test)\n",
    "print('pred_proba() 결과 Shape: {0}'.format(pred_proba.shape))\n",
    "print('pred_proba array에서 앞 5개만 샘플로 추출 \\n:', pred_proba[:5])\n",
    "\n",
    "#예측 확률 array와 예측 결과값 array를 concatenate하여 예측 확률과 결과값을 한눈에 확인\n",
    "pred_proba_result = np.concatenate([pred_proba, pred.reshape(-1, 1)], axis=1)\n",
    "print('두개의 class 중에서 더 큰 확률을 클래스 값으로 예측 \\n', pred_proba_result[:3])"
   ]
  },
  {
   "cell_type": "code",
   "execution_count": 195,
   "metadata": {},
   "outputs": [
    {
     "name": "stdout",
     "output_type": "stream",
     "text": [
      "[[0. 0. 1.]\n",
      " [1. 0. 0.]\n",
      " [0. 0. 1.]]\n"
     ]
    }
   ],
   "source": [
    "from sklearn.preprocessing import Binarizer\n",
    "\n",
    "X = [[1,-1,2],\n",
    "    [2,0,0],\n",
    "    [0,1.1,1.2]]\n",
    "\n",
    "#threshold 기준값보다 같거나 작으면 0을, 크면 1을 반환\n",
    "binarizer = Binarizer(threshold=1.1)\n",
    "print(binarizer.fit_transform(X))"
   ]
  },
  {
   "cell_type": "code",
   "execution_count": 129,
   "metadata": {},
   "outputs": [
    {
     "name": "stdout",
     "output_type": "stream",
     "text": [
      "임곗값: 0.4\n",
      "오차 행렬\n",
      "[[125  11]\n",
      " [  7  10]]\n",
      "정확도 0.8824, 정밀도:0.4762, 재현율:0.5882\n",
      "임곗값: 0.45\n",
      "오차 행렬\n",
      "[[125  11]\n",
      " [  7  10]]\n",
      "정확도 0.8824, 정밀도:0.4762, 재현율:0.5882\n",
      "임곗값: 0.5\n",
      "오차 행렬\n",
      "[[125  11]\n",
      " [  7  10]]\n",
      "정확도 0.8824, 정밀도:0.4762, 재현율:0.5882\n",
      "임곗값: 0.55\n",
      "오차 행렬\n",
      "[[125  11]\n",
      " [  7  10]]\n",
      "정확도 0.8824, 정밀도:0.4762, 재현율:0.5882\n",
      "임곗값: 0.6\n",
      "오차 행렬\n",
      "[[125  11]\n",
      " [  7  10]]\n",
      "정확도 0.8824, 정밀도:0.4762, 재현율:0.5882\n"
     ]
    }
   ],
   "source": [
    "#테스트를 수행할 모든 임계값을 리스트 객체로 저장\n",
    "thresholds = [0.4, 0.45, 0.5, 0.55, 0.6]\n",
    "\n",
    "def get_eval_by_threshold(y_test, pred_proba_c1, thresholds):\n",
    "    #thresholds list 객체 내의 값을 차례로 iteration하면서 Evaluation 수행\n",
    "    for custom_threshold in thresholds:\n",
    "        binarizer = Binarizer(threshold=custom_threshold).fit(pred_proba_c1)\n",
    "        custom_predict = binarizer.transform(pred_proba_c1)\n",
    "        print('임곗값:', custom_threshold)\n",
    "        get_clf_eval(y_test, custom_predict)\n",
    "        \n",
    "get_eval_by_threshold(y_test, pred_proba[:,1].reshape(-1, 1), thresholds)"
   ]
  },
  {
   "cell_type": "code",
   "execution_count": 196,
   "metadata": {},
   "outputs": [
    {
     "name": "stdout",
     "output_type": "stream",
     "text": [
      "반환된 분류 결정 임곗값 배열의 Shape: (2,)\n",
      "반환된 precisions 배열의 Shape: (3,)\n",
      "반환된 recalls 배열의 Shape: (3,)\n",
      "thresholds 5 sample: [0. 1.]\n",
      "precisions 5 sample: [0.17169069 0.57692308 1.        ]\n",
      "recalls 5 sample: [1.         0.45801527 0.        ]\n",
      "샘플 추출을 위한 임계값 배열의 index 10개: [0]\n",
      "샘플용 10개의 임곗값: [0.]\n",
      "샘플 임계값별 정밀도: [0.172]\n",
      "샘플 임계값별 재현율: [1.]\n"
     ]
    }
   ],
   "source": [
    "from sklearn.metrics import precision_recall_curve\n",
    "\n",
    "#레이블 값이 1일때의 예측 확률을 추출\n",
    "pred_proba_class1 = dt_clf.predict_proba(X_test)[:, 1]\n",
    "\n",
    "#실제값 데이터 셋과 레이블 값이 1일 때의 예측 확률을 precision_recall_curve 인자로 입력\n",
    "precisions, recalls, thresholds = precision_recall_curve(y_test, pred_proba_class1)\n",
    "print('반환된 분류 결정 임곗값 배열의 Shape:', thresholds.shape)\n",
    "print('반환된 precisions 배열의 Shape:', precisions.shape)\n",
    "print('반환된 recalls 배열의 Shape:', recalls.shape)\n",
    "\n",
    "print('thresholds 5 sample:', thresholds[:5])\n",
    "print('precisions 5 sample:', precisions[:5])\n",
    "print('recalls 5 sample:', recalls[:5])\n",
    "\n",
    "#반환된 임계값 배열 로우가 147건이므로 샘플로 10건만 추출하되, 임곗값을 15 step으로 추출\n",
    "thr_index = np.arange(0, thresholds.shape[0], 15)\n",
    "print('샘플 추출을 위한 임계값 배열의 index 10개:', thr_index)\n",
    "print('샘플용 10개의 임곗값:', np.round(thresholds[thr_index], 2))\n",
    "\n",
    "#15 step 단위로 추출된 임계값에 따른 정밀도와 재현율 값\n",
    "print('샘플 임계값별 정밀도:', np.round(precisions[thr_index], 3))\n",
    "print('샘플 임계값별 재현율:', np.round(recalls[thr_index], 3))"
   ]
  },
  {
   "cell_type": "code",
   "execution_count": 197,
   "metadata": {},
   "outputs": [
    {
     "data": {
      "image/png": "[encoded data removed]",
      "text/plain": [
       "<Figure size 576x432 with 1 Axes>"
      ]
     },
     "metadata": {
      "needs_background": "light"
     },
     "output_type": "display_data"
    }
   ],
   "source": [
    "import matplotlib.pyplot as plt\n",
    "import matplotlib.ticker as ticker\n",
    "%matplotlib inline\n",
    "\n",
    "def precision_recall_curve_plot(y_test, pred_proba_c1):\n",
    "    #threshold ndarray와 이 threshold에 따른 정밀도, 재현율 ndarray 추출\n",
    "    precisions, recalls, thresholds = precision_recall_curve(y_test, pred_proba_c1)\n",
    "    \n",
    "    #X축을 threshold값으로, Y축은 정밀도, 재현율 값으로 각각 Plot 수행, 정밀도는 점선으로 표시\n",
    "    plt.figure(figsize=(8,6))\n",
    "    threshold_boundary = thresholds.shape[0]\n",
    "    plt.plot(thresholds, precisions[0: threshold_boundary], linestyle='--', label='precision')\n",
    "    plt.plot(thresholds, recalls[0:threshold_boundary], label='recall')\n",
    "    \n",
    "    #threshold 값 X축의 Scale을 0,1 단위로 변경\n",
    "    start, end = plt.xlim()\n",
    "    plt.xticks(np.round(np.arange(start, end, 0.1), 2))\n",
    "    \n",
    "    #X축, y축 label과 legend, 그리고 grid 설정\n",
    "    plt.xlabel('Threshold value'); plt.ylabel('Precision and Recall value')\n",
    "    plt.legend(); plt.grid()\n",
    "    plt.show()\n",
    "    \n",
    "precision_recall_curve_plot(y_test, dt_clf.predict_proba(X_test)[:, 1])"
   ]
  },
  {
   "cell_type": "code",
   "execution_count": 198,
   "metadata": {},
   "outputs": [
    {
     "name": "stdout",
     "output_type": "stream",
     "text": [
      "F1 스코어: 0.5106\n"
     ]
    }
   ],
   "source": [
    "from sklearn.metrics import f1_score\n",
    "f1 = f1_score(y_test, pred)\n",
    "print('F1 스코어: {0:.4f}'.format(f1))"
   ]
  },
  {
   "cell_type": "code",
   "execution_count": 199,
   "metadata": {},
   "outputs": [
    {
     "name": "stdout",
     "output_type": "stream",
     "text": [
      "임곗값: 0.4\n",
      "오차 행렬\n",
      "[[588  44]\n",
      " [ 71  60]]\n",
      "정확도: 0.8493, 정밀도: 0.5769, 재현율: 0.4580, F1: 0.5106\n",
      "임곗값: 0.45\n",
      "오차 행렬\n",
      "[[588  44]\n",
      " [ 71  60]]\n",
      "정확도: 0.8493, 정밀도: 0.5769, 재현율: 0.4580, F1: 0.5106\n",
      "임곗값: 0.5\n",
      "오차 행렬\n",
      "[[588  44]\n",
      " [ 71  60]]\n",
      "정확도: 0.8493, 정밀도: 0.5769, 재현율: 0.4580, F1: 0.5106\n",
      "임곗값: 0.55\n",
      "오차 행렬\n",
      "[[588  44]\n",
      " [ 71  60]]\n",
      "정확도: 0.8493, 정밀도: 0.5769, 재현율: 0.4580, F1: 0.5106\n",
      "임곗값: 0.6\n",
      "오차 행렬\n",
      "[[588  44]\n",
      " [ 71  60]]\n",
      "정확도: 0.8493, 정밀도: 0.5769, 재현율: 0.4580, F1: 0.5106\n"
     ]
    }
   ],
   "source": [
    "def get_clf_eval(y_test, pred):\n",
    "    confusion = confusion_matrix(y_test, pred)\n",
    "    accuracy = accuracy_score(y_test, pred)\n",
    "    precision = precision_score(y_test, pred)\n",
    "    recall = recall_score(y_test, pred)\n",
    "    #F1 스코어 추가\n",
    "    f1 = f1_score(y_test, pred)\n",
    "    print('오차 행렬')\n",
    "    print(confusion)\n",
    "    #f1 score print 추가\n",
    "    print('정확도: {0:.4f}, 정밀도: {1:.4f}, 재현율: {2:.4f}, F1: {3:.4f}'.format(accuracy, precision, recall, f1))\n",
    "    \n",
    "thresholds = [0.4, 0.45, 0.50, 0.55, 0.60]\n",
    "pred_proba = dt_clf.predict_proba(X_test)\n",
    "get_eval_by_threshold(y_test, pred_proba[:,1].reshape(-1, 1), thresholds)"
   ]
  },
  {
   "cell_type": "code",
   "execution_count": 200,
   "metadata": {},
   "outputs": [
    {
     "name": "stdout",
     "output_type": "stream",
     "text": [
      "샘플 추출을 위한 임곗값 배열의 index: [1]\n",
      "샘플 index로 추출한 임곗값: [1.]\n",
      "샘플 임곗값별 FPR:  [0.07]\n",
      "샘플 임곗값별 TPR:  [0.458]\n"
     ]
    }
   ],
   "source": [
    "from sklearn.metrics import roc_curve\n",
    "\n",
    "#레이블 값이 1일때의 예측 확률을 추출\n",
    "pred_proba_class1 = dt_clf.predict_proba(X_test)[:, 1]\n",
    "\n",
    "fprs, tprs, thresholds = roc_curve(y_test, pred_proba_class1)\n",
    "#반환된 임곗값 배열에서 샘플로 데이터를 추출하되, 임곗값을 5 Step으로 추출\n",
    "#thresholds[0]은 max(예측확률)+1로 임의설정됨. 이를 제외하기 위해 np.arange는 1부터 시작\n",
    "thr_index = np.arange(1,  thresholds.shape[0], 5)\n",
    "print('샘플 추출을 위한 임곗값 배열의 index:', thr_index)\n",
    "print('샘플 index로 추출한 임곗값:', np.round(thresholds[thr_index], 2))\n",
    "\n",
    "#5step 단위로 추출된 임곗값에 따른 FPR, TPR 값\n",
    "print('샘플 임곗값별 FPR: ', np.round(fprs[thr_index], 3))\n",
    "print('샘플 임곗값별 TPR: ', np.round(tprs[thr_index], 3))"
   ]
  },
  {
   "cell_type": "code",
   "execution_count": 201,
   "metadata": {},
   "outputs": [
    {
     "data": {
      "image/png": "[encoded data removed]",
      "text/plain": [
       "<Figure size 432x288 with 1 Axes>"
      ]
     },
     "metadata": {
      "needs_background": "light"
     },
     "output_type": "display_data"
    }
   ],
   "source": [
    "def roc_curve_plot(y_test, pred_proba_c1):\n",
    "    #임곗값에 따른 FPR, TPR 값을 반환 받음\n",
    "    fprs, tprs, thresholds = roc_curve(y_test, pred_proba_c1)\n",
    "    \n",
    "    #ROC Curve를 plot 곡선으로 그림\n",
    "    plt.plot(fprs, tprs, label='ROC')\n",
    "    #가운데 대각선 직선을 그림\n",
    "    plt.plot([0,1], [0,1], 'k--', label='Random')\n",
    "    \n",
    "    #FPR X축의 Scale을 0.1단위로 변경, X,Y축 명 설정 등\n",
    "    start, end = plt.xlim()\n",
    "    plt.xticks(np.round(np.arange(start, end, 0.1), 2))\n",
    "    plt.xlim(0,1); plt.ylim(0,1)\n",
    "    plt.xlabel('FPR(1-Sensitivity)'); plt.ylabel('TPR(Recall)')\n",
    "    plt.legend()\n",
    "    plt.show()\n",
    "    \n",
    "roc_curve_plot(y_test, dt_clf.predict_proba(X_test)[:, 1])"
   ]
  },
  {
   "cell_type": "code",
   "execution_count": 202,
   "metadata": {},
   "outputs": [
    {
     "name": "stdout",
     "output_type": "stream",
     "text": [
      "ROC AUC 값: 0.6942\n"
     ]
    }
   ],
   "source": [
    "from sklearn.metrics import roc_auc_score\n",
    "\n",
    "#pred = lr_clf.predict(X_test)\n",
    "#roc_curve = roc_auc_score(y_test, pred)\n",
    "\n",
    "pred_proba = dt_clf.predict_proba(X_test)[:,1]\n",
    "roc_score = roc_auc_score(y_test, pred_proba)\n",
    "print('ROC AUC 값: {0:.4f}'.format(roc_score))"
   ]
  },
  {
   "cell_type": "markdown",
   "metadata": {},
   "source": [
    "# 검증"
   ]
  },
  {
   "cell_type": "code",
   "execution_count": 137,
   "metadata": {},
   "outputs": [],
   "source": [
    "df_21 = data[data['회계년도'] == 2021] #validate\n",
    "X_21 = df_21[['ROE', '현금순환주기', '이자보상배율', '복리후생비', '영업이익증가율','매출총이익률', '총자산증가율', \n",
    "                '비정규직비율', '총자산회전율', '기말인원', '유형자산증가율', '평균근속연수', '당좌비율', '교육훈련비']]\n",
    "y_21 = df_21['k1-Score_ad']\n",
    "y_21 = y_21.apply(lambda x: 1 if(x==\"부실\" or x==\"판정보류\") else 0)\n",
    "st = StandardScaler()\n",
    "X_21 = st.fit_transform(X_21)\n",
    "X_train, X_test, y_train, y_test = train_test_split(X_21, y_21, test_size=0.2, random_state=0)"
   ]
  },
  {
   "cell_type": "code",
   "execution_count": 138,
   "metadata": {},
   "outputs": [
    {
     "name": "stdout",
     "output_type": "stream",
     "text": [
      "결정 트리 예측 정확도: 0.8824\n",
      "DecisionTreeClassifier 기본 하이퍼 파라미터:\n",
      " {'ccp_alpha': 0.0, 'class_weight': None, 'criterion': 'gini', 'max_depth': None, 'max_features': None, 'max_leaf_nodes': None, 'min_impurity_decrease': 0.0, 'min_impurity_split': None, 'min_samples_leaf': 1, 'min_samples_split': 2, 'min_weight_fraction_leaf': 0.0, 'random_state': 42, 'splitter': 'best'}\n"
     ]
    }
   ],
   "source": [
    "from sklearn.tree import DecisionTreeClassifier\n",
    "from sklearn.metrics import accuracy_score\n",
    "\n",
    "#예제 반복 시 마다 동일한 예측 결과 도출을 위해 random_state 설정\n",
    "dt_clf = DecisionTreeClassifier(random_state=42)\n",
    "dt_clf.fit(X_train, y_train)\n",
    "pred = dt_clf.predict(X_test)\n",
    "accuracy = accuracy_score(y_test, pred)\n",
    "print('결정 트리 예측 정확도: {0:.4f}'.format(accuracy))\n",
    "\n",
    "#DecisionTreeClassifier의 하이퍼 파라미터 추출\n",
    "print('DecisionTreeClassifier 기본 하이퍼 파라미터:\\n', dt_clf.get_params())"
   ]
  },
  {
   "cell_type": "code",
   "execution_count": null,
   "metadata": {},
   "outputs": [],
   "source": []
  },
  {
   "cell_type": "code",
   "execution_count": null,
   "metadata": {},
   "outputs": [],
   "source": []
  },
  {
   "cell_type": "code",
   "execution_count": null,
   "metadata": {},
   "outputs": [],
   "source": []
  }
 ],
 "metadata": {
  "interpreter": {
   "hash": "1ea0a631e2cec5fd33116a35db7893fa7dcd17194c599dad2b48561a54fd02bb"
  },
  "kernelspec": {
   "display_name": "Python 3.9.7 ('base')",
   "language": "python",
   "name": "python3"
  },
  "language_info": {
   "codemirror_mode": {
    "name": "ipython",
    "version": 3
   },
   "file_extension": ".py",
   "mimetype": "text/x-python",
   "name": "python",
   "nbconvert_exporter": "python",
   "pygments_lexer": "ipython3",
   "version": "3.9.7"
  },
  "orig_nbformat": 4
 },
 "nbformat": 4,
 "nbformat_minor": 2
}
