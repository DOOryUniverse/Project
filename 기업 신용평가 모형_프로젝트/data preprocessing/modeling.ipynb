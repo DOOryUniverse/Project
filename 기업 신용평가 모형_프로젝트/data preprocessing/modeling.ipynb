{
 "cells": [
  {
   "cell_type": "code",
   "execution_count": 6,
   "metadata": {},
   "outputs": [],
   "source": [
    "import pandas as pd\n",
    "import numpy as np\n",
    "from sklearn.ensemble import RandomForestClassifier\n",
    "from sklearn.metrics import accuracy_score\n",
    "from sklearn.model_selection import train_test_split\n",
    "from sklearn.preprocessing import MinMaxScaler\n",
    "from sklearn.preprocessing import LabelEncoder\n",
    "from sklearn.model_selection import GridSearchCV, cross_val_score\n",
    "from sklearn.tree import DecisionTreeClassifier\n",
    "from sklearn.ensemble import RandomForestClassifier\n",
    "import warnings; warnings.filterwarnings('ignore')\n",
    "\n",
    "data = pd.read_csv(\"./건강 1476개(6516행).csv\", encoding= \"CP949\")\n",
    "data.fillna(0,inplace =True)\n",
    "data.drop([\"기업\", \"거래소코드\"], axis= 1, inplace=True)\n",
    "Y= data[\"패턴\"].values\n",
    "data.drop([\"패턴\"], axis=1, inplace=True)\n",
    "mm = MinMaxScaler()\n",
    "data = pd.DataFrame(mm.fit_transform(data))\n",
    "Y= pd.get_dummies(Y)\n",
    "\n"
   ]
  },
  {
   "cell_type": "code",
   "execution_count": 16,
   "metadata": {},
   "outputs": [],
   "source": [
    "def grid(md, a,b):\n",
    "   from sklearn.model_selection import GridSearchCV\n",
    "\n",
    "  \n",
    "   X_train, X_test, y_train, y_test = train_test_split(data,Y, test_size= a, random_state=b)\n",
    "\n",
    "   x= int(input(\"숫자를 입력하시오: \"))\n",
    "   y= int(input(\"숫자를 입력하시오: \"))\n",
    "   list =[]\n",
    "   for i in range(x,y):\n",
    "     list.append(i)\n",
    "  \n",
    "\n",
    "\n",
    "   if md == \"dtc\":\n",
    "        dt = DecisionTreeClassifier(random_state=1)\n",
    "   elif md == \"rfc\":\n",
    "       dt = RandomForestClassifier()\n",
    "   \n",
    "\n",
    "   parameters = {\"max_depth\": list, \"min_samples_split\":list}\n",
    "\n",
    "   grid_dt  = GridSearchCV(dt, param_grid = parameters, cv=5, refit =True)\n",
    "   grid_dt.fit(X_train, y_train)\n",
    "\n",
    "   print(f\"학습 데이터 최적 파라미터: {grid_dt.best_params_}\")\n",
    "   print(f\"학습 데이터 최고 정확도: {grid_dt.best_score_:.3f}\")\n",
    "\n",
    "   estimator = grid_dt.best_estimator_\n",
    "   y_pred = estimator.predict(X_test)\n",
    "   print(f\"예측 정확도: {accuracy_score(y_test, y_pred):.3f}\")"
   ]
  },
  {
   "cell_type": "code",
   "execution_count": 3,
   "metadata": {},
   "outputs": [],
   "source": [
    "def crossval( md):\n",
    "\n",
    "    if md == \"dtc\":\n",
    "         dt = DecisionTreeClassifier(random_state=156)\n",
    "    elif md == \"rfc\":\n",
    "        dt = RandomForestClassifier()\n",
    "    elif md ==\"KNN\":\n",
    "        dt = KNeighborsClassifier\n",
    "    scores = cross_val_score(dt, data, Y, scoring = \"accuracy\", cv =5)\n",
    "    from sklearn.neighbors import KNeighborsClassifier  \n",
    "    from sklearn import metrics\n",
    "\n",
    "\n",
    "\n",
    " \n",
    "    \n",
    "    print(f\"교차 검증 정확도는: {np.round(scores,3)}\")\n",
    "    print(f\"평균 교차 검증 정확도는: {np.round(np.mean(scores),3)}\")   "
   ]
  },
  {
   "cell_type": "code",
   "execution_count": 19,
   "metadata": {},
   "outputs": [
    {
     "name": "stdout",
     "output_type": "stream",
     "text": [
      "학습 데이터 최적 파라미터: {'max_depth': 4, 'min_samples_split': 2}\n",
      "학습 데이터 최고 정확도: 0.998\n",
      "예측 정확도: 0.998\n"
     ]
    }
   ],
   "source": [
    "grid(\"dtc\", 0.3, 1)"
   ]
  },
  {
   "cell_type": "code",
   "execution_count": 4,
   "metadata": {},
   "outputs": [
    {
     "ename": "UnboundLocalError",
     "evalue": "local variable 'KNeighborsClassifier' referenced before assignment",
     "output_type": "error",
     "traceback": [
      "\u001b[1;31m---------------------------------------------------------------------------\u001b[0m",
      "\u001b[1;31mUnboundLocalError\u001b[0m                         Traceback (most recent call last)",
      "\u001b[1;32m~\\AppData\\Local\\Temp/ipykernel_11964/2175676595.py\u001b[0m in \u001b[0;36m<module>\u001b[1;34m\u001b[0m\n\u001b[1;32m----> 1\u001b[1;33m \u001b[0mcrossval\u001b[0m\u001b[1;33m(\u001b[0m\u001b[1;34m\"KNN\"\u001b[0m\u001b[1;33m)\u001b[0m\u001b[1;33m\u001b[0m\u001b[1;33m\u001b[0m\u001b[0m\n\u001b[0m",
      "\u001b[1;32m~\\AppData\\Local\\Temp/ipykernel_11964/2582142374.py\u001b[0m in \u001b[0;36mcrossval\u001b[1;34m(md)\u001b[0m\n\u001b[0;32m      6\u001b[0m         \u001b[0mdt\u001b[0m \u001b[1;33m=\u001b[0m \u001b[0mRandomForestClassifier\u001b[0m\u001b[1;33m(\u001b[0m\u001b[1;33m)\u001b[0m\u001b[1;33m\u001b[0m\u001b[1;33m\u001b[0m\u001b[0m\n\u001b[0;32m      7\u001b[0m     \u001b[1;32melif\u001b[0m \u001b[0mmd\u001b[0m \u001b[1;33m==\u001b[0m\u001b[1;34m\"KNN\"\u001b[0m\u001b[1;33m:\u001b[0m\u001b[1;33m\u001b[0m\u001b[1;33m\u001b[0m\u001b[0m\n\u001b[1;32m----> 8\u001b[1;33m         \u001b[0mdt\u001b[0m \u001b[1;33m=\u001b[0m \u001b[0mKNeighborsClassifier\u001b[0m\u001b[1;33m\u001b[0m\u001b[1;33m\u001b[0m\u001b[0m\n\u001b[0m\u001b[0;32m      9\u001b[0m     \u001b[0mscores\u001b[0m \u001b[1;33m=\u001b[0m \u001b[0mcross_val_score\u001b[0m\u001b[1;33m(\u001b[0m\u001b[0mdt\u001b[0m\u001b[1;33m,\u001b[0m \u001b[0mdata\u001b[0m\u001b[1;33m,\u001b[0m \u001b[0mY\u001b[0m\u001b[1;33m,\u001b[0m \u001b[0mscoring\u001b[0m \u001b[1;33m=\u001b[0m \u001b[1;34m\"accuracy\"\u001b[0m\u001b[1;33m,\u001b[0m \u001b[0mcv\u001b[0m \u001b[1;33m=\u001b[0m\u001b[1;36m5\u001b[0m\u001b[1;33m)\u001b[0m\u001b[1;33m\u001b[0m\u001b[1;33m\u001b[0m\u001b[0m\n\u001b[0;32m     10\u001b[0m     \u001b[1;32mfrom\u001b[0m \u001b[0msklearn\u001b[0m\u001b[1;33m.\u001b[0m\u001b[0mneighbors\u001b[0m \u001b[1;32mimport\u001b[0m \u001b[0mKNeighborsClassifier\u001b[0m\u001b[1;33m\u001b[0m\u001b[1;33m\u001b[0m\u001b[0m\n",
      "\u001b[1;31mUnboundLocalError\u001b[0m: local variable 'KNeighborsClassifier' referenced before assignment"
     ]
    }
   ],
   "source": [
    "crossval(\"KNN\")"
   ]
  },
  {
   "cell_type": "code",
   "execution_count": 37,
   "metadata": {},
   "outputs": [],
   "source": [
    "data.to_csv(\"./제조업_개별재무(폐지제외).csv\", index = False,encoding='CP949')"
   ]
  },
  {
   "cell_type": "code",
   "execution_count": null,
   "metadata": {},
   "outputs": [],
   "source": []
  }
 ],
 "metadata": {
  "interpreter": {
   "hash": "b3ba2566441a7c06988d0923437866b63cedc61552a5af99d1f4fb67d367b25f"
  },
  "kernelspec": {
   "display_name": "Python 3.9.7 ('base')",
   "language": "python",
   "name": "python3"
  },
  "language_info": {
   "codemirror_mode": {
    "name": "ipython",
    "version": 3
   },
   "file_extension": ".py",
   "mimetype": "text/x-python",
   "name": "python",
   "nbconvert_exporter": "python",
   "pygments_lexer": "ipython3",
   "version": "3.9.7"
  },
  "orig_nbformat": 4
 },
 "nbformat": 4,
 "nbformat_minor": 2
}
